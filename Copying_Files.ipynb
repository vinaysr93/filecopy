{
  "nbformat": 4,
  "nbformat_minor": 0,
  "metadata": {
    "colab": {
      "provenance": []
    },
    "kernelspec": {
      "name": "python3",
      "display_name": "Python 3"
    },
    "language_info": {
      "name": "python"
    }
  },
  "cells": [
    {
      "cell_type": "code",
      "execution_count": 1,
      "metadata": {
        "id": "YVeU-n8ct9YU"
      },
      "outputs": [],
      "source": [
        "import shutil\n",
        "import os\n",
        "import re"
      ]
    },
    {
      "cell_type": "code",
      "source": [
        "current_dir=os.getcwd()"
      ],
      "metadata": {
        "id": "D1Xg8_8u3iSE"
      },
      "execution_count": 2,
      "outputs": []
    },
    {
      "cell_type": "code",
      "source": [
        "print(current_dir)"
      ],
      "metadata": {
        "colab": {
          "base_uri": "https://localhost:8080/"
        },
        "id": "M9lYQHnN39Ch",
        "outputId": "b2fb1b9c-c6c3-46af-bf5c-b50ca96d13e0"
      },
      "execution_count": 3,
      "outputs": [
        {
          "output_type": "stream",
          "name": "stdout",
          "text": [
            "/content\n"
          ]
        }
      ]
    },
    {
      "cell_type": "code",
      "source": [
        "from google.colab import drive\n",
        "drive.mount('/content/drive')"
      ],
      "metadata": {
        "colab": {
          "base_uri": "https://localhost:8080/"
        },
        "id": "FVS2juI_5BUn",
        "outputId": "a638a60c-f613-4dcf-c98e-e5ab012fe74d"
      },
      "execution_count": 4,
      "outputs": [
        {
          "output_type": "stream",
          "name": "stdout",
          "text": [
            "Mounted at /content/drive\n"
          ]
        }
      ]
    },
    {
      "cell_type": "code",
      "source": [
        "os.chdir(\"./MyDrive/\")"
      ],
      "metadata": {
        "id": "ew3B7q-s5P-w"
      },
      "execution_count": 12,
      "outputs": []
    },
    {
      "cell_type": "code",
      "source": [
        "os.listdir()"
      ],
      "metadata": {
        "colab": {
          "base_uri": "https://localhost:8080/"
        },
        "id": "ufSiZNP36zAn",
        "outputId": "be962461-ddc0-43c4-afdd-b9c723240122"
      },
      "execution_count": 13,
      "outputs": [
        {
          "output_type": "execute_result",
          "data": {
            "text/plain": [
              "['Scores.gdoc',\n",
              " 'Untitled spreadsheet (3).gsheet',\n",
              " 'English.gdoc',\n",
              " 'Computational Technology.gdoc',\n",
              " 'Mathematics for data science.gdoc',\n",
              " 'Statistics.gdoc',\n",
              " 'Untitled spreadsheet (2).gsheet',\n",
              " 'Classroom',\n",
              " 'sample.zip',\n",
              " 'Regression2.txt',\n",
              " '21f1005235@student.onlinedegree.iitm.ac.in.gdoc',\n",
              " 'Student Portfolio (3).gsite',\n",
              " 'Word Covid Data as on 03.05.2021.gsheet',\n",
              " 'Student Portfolio (2).gsite',\n",
              " 'Colab Notebooks',\n",
              " 'Holiday Party.gsite',\n",
              " 'Student Portfolio (1).gsite',\n",
              " 'Week 2 Activity (1).gsheet',\n",
              " 'ufo_sighting_data.gsheet',\n",
              " 'results.csv',\n",
              " 'results.gsheet',\n",
              " 'Week 2 Activity.gsheet',\n",
              " 'Poisson Distribution- Week 2 Activity Statistics.gdoc',\n",
              " 'New Doc 2021-05-27 11.12.16_1.pdf',\n",
              " 'Quiz-1.gjam',\n",
              " 'Untitled spreadsheet (1).gsheet',\n",
              " 'exam (1).7z',\n",
              " 'exam.7z',\n",
              " 'Untitled Jam.gjam',\n",
              " 'Marks.gsheet',\n",
              " 'Type form free google account.gdoc',\n",
              " 'Learning Paths.gsheet',\n",
              " 'Copy of Learning Paths.gsheet',\n",
              " 'ubuntu-20.04.1-desktop_snap.img.lz4',\n",
              " 'Wk 2 HTML Assignment.gdoc',\n",
              " 'MAD-1 Lab Assignments',\n",
              " 'QQ Practice.gdoc',\n",
              " 'Student Portfolio.gsite',\n",
              " 'FlashcardApp.gslides',\n",
              " 'Vinay_S_R-IIT-Madras.pdf',\n",
              " 'Screenshot_2021-12-23-12-57-41-725_com.miui.notes.jpg',\n",
              " 'MLF Text Book',\n",
              " 'MAD 1 Reports',\n",
              " 'Week4_LA.gdoc',\n",
              " 'MAD 1 Textbook',\n",
              " 'WIN_20220322_22_33_59_Pro.mp4',\n",
              " 'bandicam 2022-03-22 23-11-13-814.mp4',\n",
              " 'MADI Project-final submission.zip',\n",
              " 'PPT Slides',\n",
              " 'c++',\n",
              " 'BDM Project',\n",
              " \"I am sharing 'Formulas_Page-1' with you.pdf\",\n",
              " 'BDM - Sep Term Graded Assignment 1 DataSet.xlsx',\n",
              " 'Untitled spreadsheet.gsheet',\n",
              " 'report.html',\n",
              " 'report.gdoc',\n",
              " 'Datasets',\n",
              " 'master_currency.gsheet',\n",
              " 'Tools in Data Science.gsheet',\n",
              " 'TDS Colab Files']"
            ]
          },
          "metadata": {},
          "execution_count": 13
        }
      ]
    },
    {
      "cell_type": "code",
      "source": [
        "os.mkdir(\"TestFolder\")"
      ],
      "metadata": {
        "id": "7WJ8Zf4w7F0q"
      },
      "execution_count": 14,
      "outputs": []
    },
    {
      "cell_type": "code",
      "source": [
        "os.listdir()"
      ],
      "metadata": {
        "colab": {
          "base_uri": "https://localhost:8080/"
        },
        "id": "Yq5YzTIG7TAD",
        "outputId": "3d24d3f6-892c-4a17-e80c-bac3cc09bf62"
      },
      "execution_count": 15,
      "outputs": [
        {
          "output_type": "execute_result",
          "data": {
            "text/plain": [
              "['Scores.gdoc',\n",
              " 'Untitled spreadsheet (3).gsheet',\n",
              " 'English.gdoc',\n",
              " 'Computational Technology.gdoc',\n",
              " 'Mathematics for data science.gdoc',\n",
              " 'Statistics.gdoc',\n",
              " 'Untitled spreadsheet (2).gsheet',\n",
              " 'Classroom',\n",
              " 'sample.zip',\n",
              " 'Regression2.txt',\n",
              " '21f1005235@student.onlinedegree.iitm.ac.in.gdoc',\n",
              " 'Student Portfolio (3).gsite',\n",
              " 'Word Covid Data as on 03.05.2021.gsheet',\n",
              " 'Student Portfolio (2).gsite',\n",
              " 'Colab Notebooks',\n",
              " 'Holiday Party.gsite',\n",
              " 'Student Portfolio (1).gsite',\n",
              " 'Week 2 Activity (1).gsheet',\n",
              " 'ufo_sighting_data.gsheet',\n",
              " 'results.csv',\n",
              " 'results.gsheet',\n",
              " 'Week 2 Activity.gsheet',\n",
              " 'Poisson Distribution- Week 2 Activity Statistics.gdoc',\n",
              " 'New Doc 2021-05-27 11.12.16_1.pdf',\n",
              " 'Quiz-1.gjam',\n",
              " 'Untitled spreadsheet (1).gsheet',\n",
              " 'exam (1).7z',\n",
              " 'exam.7z',\n",
              " 'Untitled Jam.gjam',\n",
              " 'Marks.gsheet',\n",
              " 'Type form free google account.gdoc',\n",
              " 'Learning Paths.gsheet',\n",
              " 'Copy of Learning Paths.gsheet',\n",
              " 'ubuntu-20.04.1-desktop_snap.img.lz4',\n",
              " 'Wk 2 HTML Assignment.gdoc',\n",
              " 'MAD-1 Lab Assignments',\n",
              " 'QQ Practice.gdoc',\n",
              " 'Student Portfolio.gsite',\n",
              " 'FlashcardApp.gslides',\n",
              " 'Vinay_S_R-IIT-Madras.pdf',\n",
              " 'Screenshot_2021-12-23-12-57-41-725_com.miui.notes.jpg',\n",
              " 'MLF Text Book',\n",
              " 'MAD 1 Reports',\n",
              " 'Week4_LA.gdoc',\n",
              " 'MAD 1 Textbook',\n",
              " 'WIN_20220322_22_33_59_Pro.mp4',\n",
              " 'bandicam 2022-03-22 23-11-13-814.mp4',\n",
              " 'MADI Project-final submission.zip',\n",
              " 'PPT Slides',\n",
              " 'c++',\n",
              " 'BDM Project',\n",
              " \"I am sharing 'Formulas_Page-1' with you.pdf\",\n",
              " 'BDM - Sep Term Graded Assignment 1 DataSet.xlsx',\n",
              " 'Untitled spreadsheet.gsheet',\n",
              " 'report.html',\n",
              " 'report.gdoc',\n",
              " 'Datasets',\n",
              " 'master_currency.gsheet',\n",
              " 'Tools in Data Science.gsheet',\n",
              " 'TDS Colab Files',\n",
              " 'TestFolder']"
            ]
          },
          "metadata": {},
          "execution_count": 15
        }
      ]
    },
    {
      "cell_type": "code",
      "source": [
        "current_dir=os.getcwd()\n",
        "for file in os.listdir():\n",
        "\n",
        "    if file.endswith(\".pdf\"):\n",
        "      src=os.path.abspath(file)\n",
        "      dest=f\"/content/drive/MyDrive/TestFolder/{file}\"\n",
        "      try:\n",
        "        shutil.copy(src, dest)\n",
        "        print(\"File copied successfully.\")\n",
        " \n",
        "      # If source and destination are same\n",
        "      except shutil.SameFileError:\n",
        "          print(\"Source and destination represents the same file.\")\n",
        "      \n",
        "      # If there is any permission issue\n",
        "      except PermissionError:\n",
        "          print(\"Permission denied.\")\n",
        "      \n",
        "      # For other errors\n",
        "      except:\n",
        "          print(\"Error occurred while copying file.\")"
      ],
      "metadata": {
        "colab": {
          "base_uri": "https://localhost:8080/"
        },
        "id": "coc47Dmp7bK5",
        "outputId": "0ee58cf8-2170-4cd0-e39b-29a0c5724883"
      },
      "execution_count": 28,
      "outputs": [
        {
          "output_type": "stream",
          "name": "stdout",
          "text": [
            "File copied successfully.\n",
            "File copied successfully.\n",
            "File copied successfully.\n"
          ]
        }
      ]
    },
    {
      "cell_type": "code",
      "source": [
        "current_dir=os.getcwd()"
      ],
      "metadata": {
        "id": "bODM0Rq170y5"
      },
      "execution_count": 18,
      "outputs": []
    },
    {
      "cell_type": "code",
      "source": [
        "source_dir="
      ],
      "metadata": {
        "colab": {
          "base_uri": "https://localhost:8080/"
        },
        "id": "Iwm4OWZK7-J_",
        "outputId": "b6937af2-46a5-444e-dea7-b7da5d44fa15"
      },
      "execution_count": 19,
      "outputs": [
        {
          "output_type": "stream",
          "name": "stdout",
          "text": [
            "/content/drive/MyDrive\n"
          ]
        }
      ]
    }
  ]
}